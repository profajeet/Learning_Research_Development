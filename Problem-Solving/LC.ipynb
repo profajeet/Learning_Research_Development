{
 "cells": [
  {
   "cell_type": "code",
   "execution_count": 1,
   "id": "8bfda98a",
   "metadata": {},
   "outputs": [],
   "source": [
    "# https://leetcode.com/problems/merge-two-sorted-lists/description/\n",
    "\n",
    "# 21. Merge Two Sorted Lists\n",
    "# You are given the heads of two sorted linked lists list1 and list2.\n",
    "\n",
    "# Merge the two lists into one sorted list. The list should be made by splicing together the nodes of the first two lists.\n",
    "\n",
    "# Return the head of the merged linked list.\n",
    "\n",
    "# Example 1:\n",
    "# Input: list1 = [1,2,4], list2 = [1,3,4]\n",
    "# Output: [1,1,2,3,4,4]\n",
    "# Example 2:\n",
    "\n",
    "# Input: list1 = [], list2 = []\n",
    "# Output: []\n",
    "# Example 3:\n",
    "\n",
    "# Input: list1 = [], list2 = [0]\n",
    "# Output: [0]"
   ]
  },
  {
   "cell_type": "code",
   "execution_count": 41,
   "id": "96944684",
   "metadata": {},
   "outputs": [],
   "source": [
    "from typing import Optional\n",
    "class ListNode:\n",
    "    def __init__(self, val=0, next=None):\n",
    "        self.val = val\n",
    "        # print(val,next)\n",
    "        self.next = next\n",
    "class Solution:\n",
    "    def mergeTwoLists(self, list1: Optional[ListNode], list2: Optional[ListNode]) -> Optional[ListNode]:\n",
    "        head = ListNode(None)\n",
    "        current= head\n",
    "        while list1 or list2:\n",
    "            if list1 is None:\n",
    "                current.next = list2\n",
    "                return head.next\n",
    "            if list2 is None:\n",
    "                current.next = list1\n",
    "                return head.next\n",
    "\n",
    "            if list1.val <list2.val:\n",
    "                current.next = list1\n",
    "                list1 = list1.next\n",
    "            else:\n",
    "                current.next = list2\n",
    "                list2 = list2.next\n",
    "            current = current.next\n",
    "        return head.next\n",
    "\n"
   ]
  },
  {
   "cell_type": "code",
   "execution_count": 42,
   "id": "c27b3411",
   "metadata": {},
   "outputs": [],
   "source": [
    "# sol = Solution()\n",
    "# sol.mergeTwoLists(list1 = [1,2,4], list2 = [1,3,4])"
   ]
  },
  {
   "cell_type": "code",
   "execution_count": 43,
   "id": "44ba8398",
   "metadata": {},
   "outputs": [],
   "source": [
    "from typing import Optional\n",
    "class ListNode:\n",
    "    def __init__(self, val=0, next=None):\n",
    "        self.val = val\n",
    "        # print(val,next)\n",
    "        self.next = next\n",
    "        \n",
    "def list_to_listnode(values: list) -> Optional[ListNode]:\n",
    "    \"\"\"Convert a Python list to a linked list of ListNode. Returns the head or None for empty list.\"\"\"\n",
    "    if not values:\n",
    "        return None\n",
    "    head = ListNode(values[0])\n",
    "    current = head\n",
    "    for v in values[1:]:\n",
    "        current.next = ListNode(v)\n",
    "        current = current.next\n",
    "    return head\n",
    "l2n = list_to_listnode([3,4,52,4])"
   ]
  },
  {
   "cell_type": "code",
   "execution_count": 44,
   "id": "b180ff76",
   "metadata": {},
   "outputs": [
    {
     "name": "stdout",
     "output_type": "stream",
     "text": [
      "3\n",
      "4\n",
      "52\n",
      "4\n"
     ]
    }
   ],
   "source": [
    "head = l2n\n",
    "current = head\n",
    "while current:\n",
    "    print(current.val)\n",
    "    current = current.next"
   ]
  },
  {
   "cell_type": "code",
   "execution_count": 45,
   "id": "721b6353",
   "metadata": {},
   "outputs": [
    {
     "data": {
      "text/plain": [
       "<__main__.ListNode at 0x11087d150>"
      ]
     },
     "execution_count": 45,
     "metadata": {},
     "output_type": "execute_result"
    }
   ],
   "source": [
    "sol = Solution()\n",
    "sol.mergeTwoLists(list1 = list_to_listnode([1,2,4]), list2 = list_to_listnode([1,3,4]))"
   ]
  },
  {
   "cell_type": "markdown",
   "id": "96e10c0d",
   "metadata": {},
   "source": [
    "### 26. Remove Duplicates from Sorted Array"
   ]
  },
  {
   "cell_type": "code",
   "execution_count": 46,
   "id": "f11fef3e",
   "metadata": {},
   "outputs": [],
   "source": [
    "# Given an integer array nums sorted in non-decreasing order, remove the duplicates in-place such that each unique element appears only once. The relative order of the elements should be kept the same. Then return the number of unique elements in nums.\n",
    "\n",
    "# Consider the number of unique elements of nums to be k, to get accepted, you need to do the following things:\n",
    "\n",
    "# Change the array nums such that the first k elements of nums contain the unique elements in the order they were present in nums initially. The remaining elements of nums are not important as well as the size of nums.\n",
    "# Return k."
   ]
  },
  {
   "cell_type": "code",
   "execution_count": 67,
   "id": "ec26068d",
   "metadata": {},
   "outputs": [
    {
     "name": "stdout",
     "output_type": "stream",
     "text": [
      "[0, 1, 2, 3, 4]\n"
     ]
    }
   ],
   "source": [
    "nums = [0,0,1,1,1,2,2,3,3,4]\n",
    "print(list(set(nums)))"
   ]
  },
  {
   "cell_type": "code",
   "execution_count": 55,
   "id": "1864d7d9",
   "metadata": {},
   "outputs": [],
   "source": [
    "from typing import List\n",
    "class Solution:\n",
    "    def removeDuplicates(self, nums: List[int]) -> int:\n",
    "        nums_len = len(nums)\n",
    "        sorted_nums= list(set(nums))\n",
    "        nums = sorted_nums+[_ for _ in range(nums_len-len(sorted_nums))]\n",
    "        print(nums)\n",
    "        return len(sorted_nums)"
   ]
  },
  {
   "cell_type": "code",
   "execution_count": 56,
   "id": "267aeeaa",
   "metadata": {},
   "outputs": [
    {
     "name": "stdout",
     "output_type": "stream",
     "text": [
      "[0, 1, 2, 3, 4, 0, 1, 2, 3, 4]\n"
     ]
    },
    {
     "data": {
      "text/plain": [
       "5"
      ]
     },
     "execution_count": 56,
     "metadata": {},
     "output_type": "execute_result"
    }
   ],
   "source": [
    "Solution().removeDuplicates(nums)"
   ]
  },
  {
   "cell_type": "code",
   "execution_count": 51,
   "id": "4c5f796b",
   "metadata": {},
   "outputs": [],
   "source": [
    "class Solution:\n",
    "    def removeDuplicates(self, nums: List[int]) -> int:\n",
    "        sorted_nums= list(set(nums))\n",
    "        print(sorted_nums)\n",
    "        return len(sorted_nums)"
   ]
  },
  {
   "cell_type": "code",
   "execution_count": 52,
   "id": "f30a150a",
   "metadata": {},
   "outputs": [
    {
     "name": "stdout",
     "output_type": "stream",
     "text": [
      "[0, 1, 2, 3, 4]\n"
     ]
    },
    {
     "data": {
      "text/plain": [
       "5"
      ]
     },
     "execution_count": 52,
     "metadata": {},
     "output_type": "execute_result"
    }
   ],
   "source": [
    "Solution().removeDuplicates(nums)"
   ]
  },
  {
   "cell_type": "code",
   "execution_count": 65,
   "id": "ee908762",
   "metadata": {},
   "outputs": [],
   "source": [
    "class Solution:\n",
    "    def removeDuplicates(self, nums: List[int]) -> int:\n",
    "        n = len(nums)\n",
    "        j =1\n",
    "        for i in range(j, n):\n",
    "            if nums[i] != nums[i-1]:\n",
    "                nums[j]=nums[i]\n",
    "                j +=1\n",
    "        print(nums)\n",
    "        return j"
   ]
  },
  {
   "cell_type": "code",
   "execution_count": 68,
   "id": "a0fd459b",
   "metadata": {},
   "outputs": [
    {
     "name": "stdout",
     "output_type": "stream",
     "text": [
      "[0, 1, 2, 3, 4, 2, 2, 3, 3, 4]\n"
     ]
    },
    {
     "data": {
      "text/plain": [
       "5"
      ]
     },
     "execution_count": 68,
     "metadata": {},
     "output_type": "execute_result"
    }
   ],
   "source": [
    "Solution().removeDuplicates(nums)\n"
   ]
  },
  {
   "cell_type": "code",
   "execution_count": null,
   "id": "debd551a",
   "metadata": {},
   "outputs": [],
   "source": []
  }
 ],
 "metadata": {
  "kernelspec": {
   "display_name": "AIenv",
   "language": "python",
   "name": "python3"
  },
  "language_info": {
   "codemirror_mode": {
    "name": "ipython",
    "version": 3
   },
   "file_extension": ".py",
   "mimetype": "text/x-python",
   "name": "python",
   "nbconvert_exporter": "python",
   "pygments_lexer": "ipython3",
   "version": "3.13.2"
  }
 },
 "nbformat": 4,
 "nbformat_minor": 5
}

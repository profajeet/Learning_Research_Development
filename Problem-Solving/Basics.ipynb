{
 "cells": [
  {
   "cell_type": "markdown",
   "id": "f7dbe838",
   "metadata": {},
   "source": [
    "### combine two tables"
   ]
  },
  {
   "cell_type": "code",
   "execution_count": 8,
   "id": "493b90da",
   "metadata": {},
   "outputs": [
    {
     "name": "stdout",
     "output_type": "stream",
     "text": [
      "Inner Merge:\n",
      "   key  value1  value2\n",
      "0   B       2       5\n",
      "1   D       4       6\n",
      "\n",
      "Left Merge:\n",
      "   key  value1  value2\n",
      "0   A       1     NaN\n",
      "1   B       2     5.0\n",
      "2   C       3     NaN\n",
      "3   D       4     6.0\n",
      "\n",
      "Outer Merge:\n",
      "   key  value1  value2\n",
      "0   A     1.0     NaN\n",
      "1   B     2.0     5.0\n",
      "2   C     3.0     NaN\n",
      "3   D     4.0     6.0\n",
      "4   E     NaN     7.0\n",
      "5   F     NaN     8.0\n"
     ]
    }
   ],
   "source": [
    "import pandas as pd\n",
    "\n",
    "df1 = pd.DataFrame({'key': ['A', 'B', 'C', 'D'], 'value1': [1, 2, 3, 4]})\n",
    "df2 = pd.DataFrame({'key': ['B', 'D', 'E', 'F'], 'value2': [5, 6, 7, 8]})\n",
    "\n",
    "# Inner merge (default): only rows with matching keys in both DataFrames\n",
    "merged_df_inner = pd.merge(df1, df2, on='key', how='inner')\n",
    "print(\"Inner Merge:\\n\", merged_df_inner)\n",
    "\n",
    "# Left merge: all rows from df1, matching rows from df2\n",
    "merged_df_left = pd.merge(df1, df2, on='key', how='left')\n",
    "print(\"\\nLeft Merge:\\n\", merged_df_left)\n",
    "\n",
    "# Outer merge: all rows from both DataFrames, filling NaNs where no match\n",
    "merged_df_outer = pd.merge(df1, df2, on='key', how='outer')\n",
    "print(\"\\nOuter Merge:\\n\", merged_df_outer)\n",
    "# print(\"\\nOuter Merge:\\n\", merged_df_outer)\n"
   ]
  },
  {
   "cell_type": "code",
   "execution_count": 2,
   "id": "3341eba5",
   "metadata": {},
   "outputs": [
    {
     "name": "stdout",
     "output_type": "stream",
     "text": [
      "Joined DataFrame:\n",
      "    value1  value2\n",
      "a     1.0     NaN\n",
      "b     2.0     4.0\n",
      "c     3.0     5.0\n",
      "d     NaN     6.0\n"
     ]
    }
   ],
   "source": [
    "# DataFrame.join() for Index-based Joins:\n",
    "# This method is primarily used to combine DataFrames based on their indices, or a key column in one DataFrame and the index in another.\n",
    "\n",
    "\n",
    "import pandas as pd\n",
    "\n",
    "df1 = pd.DataFrame({'value1': [1, 2, 3]}, index=['a', 'b', 'c'])\n",
    "df2 = pd.DataFrame({'value2': [4, 5, 6]}, index=['b', 'c', 'd'])\n",
    "\n",
    "# Join on index\n",
    "joined_df = df1.join(df2, how='outer')\n",
    "print(\"Joined DataFrame:\\n\", joined_df)"
   ]
  },
  {
   "cell_type": "code",
   "execution_count": 3,
   "id": "27907a27",
   "metadata": {},
   "outputs": [
    {
     "name": "stdout",
     "output_type": "stream",
     "text": [
      "Concatenated Rows:\n",
      "       Name  Age\n",
      "0    Alice   25\n",
      "1      Bob   30\n",
      "2  Charlie   35\n",
      "3    David   40\n",
      "\n",
      "Concatenated Columns:\n",
      "     Name  Age         City  Salary\n",
      "0  Alice   25     New York   70000\n",
      "1    Bob   30  Los Angeles   80000\n"
     ]
    }
   ],
   "source": [
    "# pd.concat() for Concatenation:\n",
    "# This function is used to stack DataFrames either vertically (row-wise) or horizontally (column-wise).\n",
    "\n",
    "import pandas as pd\n",
    "\n",
    "df1 = pd.DataFrame({'Name': ['Alice', 'Bob'], 'Age': [25, 30]})\n",
    "df2 = pd.DataFrame({'Name': ['Charlie', 'David'], 'Age': [35, 40]})\n",
    "\n",
    "# Vertical concatenation (stacking rows)\n",
    "concatenated_rows = pd.concat([df1, df2], ignore_index=True)\n",
    "print(\"Concatenated Rows:\\n\", concatenated_rows)\n",
    "\n",
    "df3 = pd.DataFrame({'City': ['New York', 'Los Angeles'], 'Salary': [70000, 80000]})\n",
    "\n",
    "# Horizontal concatenation (stacking columns)\n",
    "concatenated_cols = pd.concat([df1, df3], axis=1)\n",
    "print(\"\\nConcatenated Columns:\\n\", concatenated_cols)"
   ]
  },
  {
   "cell_type": "code",
   "execution_count": null,
   "id": "a69d8a92",
   "metadata": {},
   "outputs": [],
   "source": []
  }
 ],
 "metadata": {
  "kernelspec": {
   "display_name": "AIenv",
   "language": "python",
   "name": "python3"
  },
  "language_info": {
   "codemirror_mode": {
    "name": "ipython",
    "version": 3
   },
   "file_extension": ".py",
   "mimetype": "text/x-python",
   "name": "python",
   "nbconvert_exporter": "python",
   "pygments_lexer": "ipython3",
   "version": "3.13.2"
  }
 },
 "nbformat": 4,
 "nbformat_minor": 5
}

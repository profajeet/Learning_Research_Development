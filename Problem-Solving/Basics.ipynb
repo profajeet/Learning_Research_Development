{
 "cells": [
  {
   "cell_type": "markdown",
   "id": "f7dbe838",
   "metadata": {},
   "source": [
    "### combine two tables"
   ]
  },
  {
   "cell_type": "code",
   "execution_count": 21,
   "id": "493b90da",
   "metadata": {},
   "outputs": [
    {
     "name": "stdout",
     "output_type": "stream",
     "text": [
      "Inner Merge:\n",
      "   key  value1  value2\n",
      "0   B       2       5\n",
      "1   D       4       6\n",
      "\n",
      "Left Merge:\n",
      "   key  value1  value2\n",
      "0   A       1     NaN\n",
      "1   B       2     5.0\n",
      "2   C       3     NaN\n",
      "3   D       4     6.0\n",
      "\n",
      "Outer Merge:\n",
      "   key  value1  value2\n",
      "0   A     1.0     NaN\n",
      "1   B     2.0     5.0\n",
      "2   C     3.0     NaN\n",
      "3   D     4.0     6.0\n",
      "4   E     NaN     7.0\n",
      "5   F     NaN     8.0\n",
      "\n",
      "Keys not common to both DataFrames:\n",
      "   key  value1  value2      _merge\n",
      "0   A     1.0     NaN   left_only\n",
      "2   C     3.0     NaN   left_only\n",
      "4   E     NaN     7.0  right_only\n",
      "5   F     NaN     8.0  right_only\n",
      "\n",
      "Left-only (in df1 but not in df2):\n",
      "   key  value1  value2\n",
      "0   A     1.0     NaN\n",
      "2   C     3.0     NaN\n",
      "\n",
      "Right-only (in df2 but not in df1):\n",
      "   key  value1  value2\n",
      "4   E     NaN     7.0\n",
      "5   F     NaN     8.0\n"
     ]
    }
   ],
   "source": [
    "import pandas as pd\n",
    "\n",
    "df1 = pd.DataFrame({'key': ['A', 'B', 'C', 'D'], 'value1': [1, 2, 3, 4]})\n",
    "df2 = pd.DataFrame({'key': ['B', 'D', 'E', 'F'], 'value2': [5, 6, 7, 8]})\n",
    "\n",
    "# Inner merge (default): only rows with matching keys in both DataFrames\n",
    "merged_df_inner = pd.merge(df1, df2, on='key', how='inner')\n",
    "print(\"Inner Merge:\\n\", merged_df_inner)\n",
    "\n",
    "# Left merge: all rows from df1, matching rows from df2\n",
    "merged_df_left = pd.merge(df1, df2, on='key', how='left')\n",
    "print(\"\\nLeft Merge:\\n\", merged_df_left)\n",
    "\n",
    "# Outer merge: all rows from both DataFrames, filling NaNs where no match\n",
    "merged_df_outer = pd.merge(df1, df2, on='key', how='outer')\n",
    "print(\"\\nOuter Merge:\\n\", merged_df_outer)\n",
    "\n",
    "# Rows where the key exists in only one of the DataFrames (exclude common keys)\n",
    "merged_not_common = pd.merge(df1, df2, on='key', how='outer', indicator=True)\n",
    "not_common = merged_not_common[merged_not_common['_merge'] != 'both'].copy()\n",
    "print(\"\\nKeys not common to both DataFrames:\\n\", not_common)\n",
    "\n",
    "# If you want them separated:\n",
    "left_only = merged_not_common[merged_not_common['_merge'] == 'left_only'].drop(columns=['_merge'])\n",
    "right_only = merged_not_common[merged_not_common['_merge'] == 'right_only'].drop(columns=['_merge'])\n",
    "print(\"\\nLeft-only (in df1 but not in df2):\\n\", left_only)\n",
    "print(\"\\nRight-only (in df2 but not in df1):\\n\", right_only)\n"
   ]
  },
  {
   "cell_type": "code",
   "execution_count": null,
   "id": "4006ef2f",
   "metadata": {},
   "outputs": [
    {
     "data": {
      "text/plain": [
       "0    B\n",
       "1    D\n",
       "Name: key, dtype: object"
      ]
     },
     "execution_count": 20,
     "metadata": {},
     "output_type": "execute_result"
    }
   ],
   "source": [
    "# print(\"\\nOuter Merge:\\n\", merged_df_outer[~(merged_df_inner['key'])])\n",
    "# merged_df_inner['key']"
   ]
  },
  {
   "cell_type": "code",
   "execution_count": 2,
   "id": "3341eba5",
   "metadata": {},
   "outputs": [
    {
     "name": "stdout",
     "output_type": "stream",
     "text": [
      "Joined DataFrame:\n",
      "    value1  value2\n",
      "a     1.0     NaN\n",
      "b     2.0     4.0\n",
      "c     3.0     5.0\n",
      "d     NaN     6.0\n"
     ]
    }
   ],
   "source": [
    "# DataFrame.join() for Index-based Joins:\n",
    "# This method is primarily used to combine DataFrames based on their indices, or a key column in one DataFrame and the index in another.\n",
    "\n",
    "\n",
    "import pandas as pd\n",
    "\n",
    "df1 = pd.DataFrame({'value1': [1, 2, 3]}, index=['a', 'b', 'c'])\n",
    "df2 = pd.DataFrame({'value2': [4, 5, 6]}, index=['b', 'c', 'd'])\n",
    "\n",
    "# Join on index\n",
    "joined_df = df1.join(df2, how='outer')\n",
    "print(\"Joined DataFrame:\\n\", joined_df)"
   ]
  },
  {
   "cell_type": "code",
   "execution_count": 3,
   "id": "27907a27",
   "metadata": {},
   "outputs": [
    {
     "name": "stdout",
     "output_type": "stream",
     "text": [
      "Concatenated Rows:\n",
      "       Name  Age\n",
      "0    Alice   25\n",
      "1      Bob   30\n",
      "2  Charlie   35\n",
      "3    David   40\n",
      "\n",
      "Concatenated Columns:\n",
      "     Name  Age         City  Salary\n",
      "0  Alice   25     New York   70000\n",
      "1    Bob   30  Los Angeles   80000\n"
     ]
    }
   ],
   "source": [
    "# pd.concat() for Concatenation:\n",
    "# This function is used to stack DataFrames either vertically (row-wise) or horizontally (column-wise).\n",
    "\n",
    "import pandas as pd\n",
    "\n",
    "df1 = pd.DataFrame({'Name': ['Alice', 'Bob'], 'Age': [25, 30]})\n",
    "df2 = pd.DataFrame({'Name': ['Charlie', 'David'], 'Age': [35, 40]})\n",
    "\n",
    "# Vertical concatenation (stacking rows)\n",
    "concatenated_rows = pd.concat([df1, df2], ignore_index=True)\n",
    "print(\"Concatenated Rows:\\n\", concatenated_rows)\n",
    "\n",
    "df3 = pd.DataFrame({'City': ['New York', 'Los Angeles'], 'Salary': [70000, 80000]})\n",
    "\n",
    "# Horizontal concatenation (stacking columns)\n",
    "concatenated_cols = pd.concat([df1, df3], axis=1)\n",
    "print(\"\\nConcatenated Columns:\\n\", concatenated_cols)"
   ]
  },
  {
   "cell_type": "markdown",
   "id": "2e2b489e",
   "metadata": {},
   "source": [
    "### GFG Basics"
   ]
  },
  {
   "cell_type": "code",
   "execution_count": null,
   "id": "a69d8a92",
   "metadata": {},
   "outputs": [
    {
     "name": "stdout",
     "output_type": "stream",
     "text": [
      "333222111\n",
      "332211\n",
      "321\n"
     ]
    }
   ],
   "source": [
    "class Solution:\n",
    "    def printPat(self, n):\n",
    "        #write code here\n",
    "        for i in range(n,0,-1):\n",
    "            for j in range(n,0,-1):\n",
    "                print(f'{j}'*i,end=\"\")\n",
    "            print()\n",
    "Solution().printPat(3)"
   ]
  },
  {
   "cell_type": "code",
   "execution_count": 6,
   "id": "c541180d",
   "metadata": {},
   "outputs": [],
   "source": [
    "# Input: 2\n",
    "# Output: [2, 2, 1, 1, -1, 2, 1, -1]\n",
    "\n",
    "# Input: 3\n",
    "# Output: [3, 3, 3, 2, 2, 2, 1, 1, 1, -1, 3, 3, 2, 2, 1, 1, -1, 3, 2, 1, -1]"
   ]
  },
  {
   "cell_type": "code",
   "execution_count": 10,
   "id": "f3bb3d7f",
   "metadata": {},
   "outputs": [
    {
     "name": "stdout",
     "output_type": "stream",
     "text": [
      "[3, 3, 3, 2, 2, 2, 1, 1, 1, -1, 3, 3, 2, 2, 1, 1, -1, 3, 2, 1, -1]\n"
     ]
    }
   ],
   "source": [
    "class Solution:\n",
    "    def printPat(self, n):\n",
    "        #write code here\n",
    "        f_list = []\n",
    "        for i in range(n,0,-1):\n",
    "            for j in range(n,0,-1):\n",
    "                f_list.extend([j]*i)\n",
    "            f_list.append(-1)\n",
    "\n",
    "        print(f_list)\n",
    "Solution().printPat(3)"
   ]
  },
  {
   "cell_type": "code",
   "execution_count": 11,
   "id": "b1d6837f",
   "metadata": {},
   "outputs": [],
   "source": [
    "# Create the multiplication table from 1 to 10 for a given number n and return the table as an array.\n",
    "\n",
    "# Examples:\n",
    "\n",
    "# Input: n = 9\n",
    "# Output: 9 18 27 36 45 54 63 72 81 90\n",
    "# Input: n = 2\n",
    "# Output: 2 4 6 8 10 12 14 16 18 20"
   ]
  },
  {
   "cell_type": "code",
   "execution_count": 13,
   "id": "b3c3da10",
   "metadata": {},
   "outputs": [
    {
     "data": {
      "text/plain": [
       "[9, 18, 27, 36, 45, 54, 63, 72, 81, 90]"
      ]
     },
     "execution_count": 13,
     "metadata": {},
     "output_type": "execute_result"
    }
   ],
   "source": [
    "class Solution:\n",
    "    def getTable(self,n):\n",
    "        f_list = []\n",
    "        for i in range(1,11):\n",
    "            f_list.append(n*i)\n",
    "        return f_list\n",
    "Solution().getTable(9)"
   ]
  },
  {
   "cell_type": "code",
   "execution_count": 14,
   "id": "3abb41fb",
   "metadata": {},
   "outputs": [],
   "source": [
    "# Given the first 2 terms a1 and a2 of an Arithmetic Series. Find the nth term of the series. \n",
    "\n",
    "# Examples:\n",
    "\n",
    "# Input: a1 = 2, a2 = 3, n = 4\n",
    "# Output: 5\n",
    "# Explanation: The series is: 2,3,4,5,6.... Thus, the 4th term is 5.\n",
    "# Input: a1 = 1, a2 = 3, n = 10\n",
    "# Output: 19\n",
    "# Explanation: The series is: 1,3,5,7,9,11,13,15,17,19,21.. Thus, the 10th term is 19."
   ]
  },
  {
   "cell_type": "code",
   "execution_count": 15,
   "id": "c081c852",
   "metadata": {},
   "outputs": [
    {
     "data": {
      "text/plain": [
       "19"
      ]
     },
     "execution_count": 15,
     "metadata": {},
     "output_type": "execute_result"
    }
   ],
   "source": [
    "class Solution:\n",
    "    def nthTermOfAP(self, a1 : int, a2 : int, n : int) -> int:\n",
    "        # code here\n",
    "        # An=A1+(n-1)d\n",
    "        return a1+(n-1)*(a2-a1)\n",
    "        \n",
    "Solution().nthTermOfAP(a1 = 1, a2 = 3, n = 10)"
   ]
  },
  {
   "cell_type": "code",
   "execution_count": null,
   "id": "da2ee0de",
   "metadata": {},
   "outputs": [],
   "source": [
    "# Given three integers a, r, and n, where a is the first term of a geometric progression (GP),\n",
    "#  r is the common ratio, and n is the position of the term you need to find. \n",
    "# Your task is to calculate the n-th term of the GP.\n",
    "# Since the result can be very large, return the answer modulo 1000000007 (i.e. 109+ 7).\n",
    "\n",
    "# Examples:\n",
    "\n",
    "# Input: a = 2, r = 2, n = 4\n",
    "# Output: 16\n",
    "# Explanation: The GP series is 2, 4, 8, 16, 32,... in which 16 is the 4th term.\n",
    "# Input: a = 4, r = 3, n = 3\n",
    "# Output: 36\n",
    "# Explanation: The GP series is 4, 12, 36, 108,... in which 36 is the 3rd term."
   ]
  },
  {
   "cell_type": "code",
   "execution_count": 21,
   "id": "9dddc1bc",
   "metadata": {},
   "outputs": [
    {
     "data": {
      "text/plain": [
       "16"
      ]
     },
     "execution_count": 21,
     "metadata": {},
     "output_type": "execute_result"
    }
   ],
   "source": [
    "class Solution:\n",
    "\tdef nthTerm(self, a, r, n):\n",
    "\t\treturn a*(r**(n-1))\n",
    "Solution().nthTerm(a = 2, r = 2, n = 4)"
   ]
  },
  {
   "cell_type": "code",
   "execution_count": 22,
   "id": "d003ad30",
   "metadata": {},
   "outputs": [
    {
     "data": {
      "text/plain": [
       "220518021073982293114140821750621969466573040131627683937678203662824990300538900110590770572571326622957245982584965838742717112482152482783597780965660527654114724165227629435139705190103072136593087084389335743421186311007223475097024999433216806579830571132119501125443831934000572256957043111817930044898997611271600180565187157786574845392965962519944229763902407474299091958850602401461477274563284259070662827081458759654265781941539575324978186871974531283347391120507251986101340811735789173394010442806658699119365683912936320071738477201607249572707807171674359989538123738089062484486833053689167"
      ]
     },
     "execution_count": 22,
     "metadata": {},
     "output_type": "execute_result"
    }
   ],
   "source": [
    "Solution().nthTerm(a = 67, r = 381, n = 236)\n"
   ]
  },
  {
   "cell_type": "code",
   "execution_count": null,
   "id": "29a578a3",
   "metadata": {},
   "outputs": [],
   "source": []
  }
 ],
 "metadata": {
  "kernelspec": {
   "display_name": "AIenv",
   "language": "python",
   "name": "python3"
  },
  "language_info": {
   "codemirror_mode": {
    "name": "ipython",
    "version": 3
   },
   "file_extension": ".py",
   "mimetype": "text/x-python",
   "name": "python",
   "nbconvert_exporter": "python",
   "pygments_lexer": "ipython3",
   "version": "3.13.2"
  }
 },
 "nbformat": 4,
 "nbformat_minor": 5
}
